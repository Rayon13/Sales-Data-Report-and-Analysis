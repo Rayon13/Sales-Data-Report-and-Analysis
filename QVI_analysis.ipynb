{
 "cells": [
  {
   "cell_type": "markdown",
   "metadata": {},
   "source": [
    "# Quantium Virtual Internship - Retail Strategy and Analytics - Task 1"
   ]
  },
  {
   "cell_type": "markdown",
   "metadata": {},
   "source": [
    "## Loading required libraries"
   ]
  },
  {
   "cell_type": "code",
   "execution_count": 161,
   "metadata": {},
   "outputs": [],
   "source": [
    "import os\n",
    "import re\n",
    "import pandas as pd\n",
    "import matplotlib.pyplot as plt\n",
    "import seaborn as sns\n",
    "import scipy.stats as stats\n",
    "%matplotlib inline"
   ]
  },
  {
   "cell_type": "markdown",
   "metadata": {},
   "source": [
    "## Loading required datasets"
   ]
  },
  {
   "cell_type": "code",
   "execution_count": null,
   "metadata": {},
   "outputs": [],
   "source": [
    "# getting present working directory\n",
    "pwd = os.getcwd()"
   ]
  },
  {
   "cell_type": "code",
   "execution_count": null,
   "metadata": {},
   "outputs": [],
   "source": [
    "transaction_data = pd.read_excel(pwd + '\\\\QVI_transaction_data.xlsx')"
   ]
  },
  {
   "cell_type": "code",
   "execution_count": null,
   "metadata": {},
   "outputs": [],
   "source": [
    "customer_data = pd.read_csv(pwd + '\\\\QVI_purchase_behaviour.csv')"
   ]
  },
  {
   "cell_type": "markdown",
   "metadata": {},
   "source": [
    "## Exploratory data analysis"
   ]
  },
  {
   "cell_type": "markdown",
   "metadata": {},
   "source": [
    "### Examining transaction data"
   ]
  },
  {
   "cell_type": "code",
   "execution_count": null,
   "metadata": {},
   "outputs": [],
   "source": [
    "transaction_data"
   ]
  },
  {
   "cell_type": "markdown",
   "metadata": {},
   "source": [
    "Let's check if columns we would expect to be numeric are in numeric form and date columns are in date format. "
   ]
  },
  {
   "cell_type": "code",
   "execution_count": null,
   "metadata": {},
   "outputs": [],
   "source": [
    "transaction_data.info()"
   ]
  },
  {
   "cell_type": "markdown",
   "metadata": {},
   "source": [
    "We can see that the date column is in an integer format. Let's change this to a date format."
   ]
  },
  {
   "cell_type": "code",
   "execution_count": null,
   "metadata": {},
   "outputs": [],
   "source": [
    "base_date = pd.Timestamp('30-12-1899')\n",
    "transaction_data.DATE = transaction_data.DATE.apply(lambda x: base_date + pd.DateOffset(x))"
   ]
  },
  {
   "cell_type": "markdown",
   "metadata": {},
   "source": [
    "We should check that we are looking at the right products by examining PROD_NAME."
   ]
  },
  {
   "cell_type": "code",
   "execution_count": null,
   "metadata": {},
   "outputs": [],
   "source": [
    "transaction_data.PROD_NAME.unique()"
   ]
  },
  {
   "cell_type": "markdown",
   "metadata": {},
   "source": [
    "Looks like we are definitely looking at potato chips but how can we check that these are all chips? We can do some basic text analysis by summarising the individual words in the product name"
   ]
  },
  {
   "cell_type": "code",
   "execution_count": null,
   "metadata": {},
   "outputs": [],
   "source": [
    "# Making a list of all the words in product names\n",
    "product_words = []\n",
    "def add_words(lst):\n",
    "    for y in lst:\n",
    "        product_words.append(y)\n",
    "    return\n",
    "product_words1 = transaction_data.PROD_NAME.apply(lambda x: add_words(x.split()))\n",
    "product_words"
   ]
  },
  {
   "cell_type": "markdown",
   "metadata": {},
   "source": [
    "As we are only interested in words that will tell us if the product is chips or not, let's remove all words with digits and special characters such as '&' from our set of product words"
   ]
  },
  {
   "cell_type": "code",
   "execution_count": null,
   "metadata": {},
   "outputs": [],
   "source": [
    "# Removing digits\n",
    "regex1 = re.compile(r'^.+\\d.+$')\n",
    "product_words = [i for i in product_words if not regex1.match(i)]\n",
    "# Removing special characters\n",
    "regex2 = re.compile(r'^.+\\W.+$')\n",
    "regex3 = re.compile(r'\\W')\n",
    "product_words = [i for i in product_words if not regex1.match(i)]\n",
    "product_words = [i for i in product_words if not regex2.match(i)]\n",
    "product_words = [i for i in product_words if not regex3.match(i)]\n",
    "product_words = pd.DataFrame(product_words)\n",
    "product_words.value_counts()"
   ]
  },
  {
   "cell_type": "markdown",
   "metadata": {},
   "source": [
    "There are salsa products in the dataset but we are only interested in the chips category, so let's remove these. "
   ]
  },
  {
   "cell_type": "code",
   "execution_count": null,
   "metadata": {},
   "outputs": [],
   "source": [
    "product_words_list = transaction_data.PROD_NAME.apply(lambda x: 'Salsa' not in x.split())\n",
    "transaction_data = transaction_data[product_words_list == True]\n",
    "transaction_data"
   ]
  },
  {
   "cell_type": "markdown",
   "metadata": {},
   "source": [
    "Next, we can use `describe()` to check summary statistics such as mean, min and max values for each feature to see if there are any obvious outliers in the data and if there are any nulls in any of the columns."
   ]
  },
  {
   "cell_type": "code",
   "execution_count": null,
   "metadata": {},
   "outputs": [],
   "source": [
    "transaction_data.describe()"
   ]
  },
  {
   "cell_type": "markdown",
   "metadata": {},
   "source": [
    "There are no nulls in the columns but product quantity appears to have an outlier which we should investigate further. Let's investigate further the case where 200 packets of chips are bought in one transaction.\n"
   ]
  },
  {
   "cell_type": "code",
   "execution_count": null,
   "metadata": {},
   "outputs": [],
   "source": [
    "transaction_data[transaction_data.PROD_QTY == 200]"
   ]
  },
  {
   "cell_type": "markdown",
   "metadata": {},
   "source": [
    "There are two transactions where 200 packets of chips are bought in one transaction and both of these transactions were by the same customer."
   ]
  },
  {
   "cell_type": "markdown",
   "metadata": {},
   "source": [
    "Let's see if the customer has had other transactions"
   ]
  },
  {
   "cell_type": "code",
   "execution_count": null,
   "metadata": {},
   "outputs": [],
   "source": [
    "transaction_data[transaction_data.LYLTY_CARD_NBR == 226000]"
   ]
  },
  {
   "cell_type": "markdown",
   "metadata": {},
   "source": [
    "It looks like this customer has only had the two transactions over the year and is not an ordinary retail customer. The customer might be buying chips for commercial purposes instead. We'll remove this loyalty card number from further analysis."
   ]
  },
  {
   "cell_type": "code",
   "execution_count": null,
   "metadata": {},
   "outputs": [],
   "source": [
    "transaction_data = transaction_data.loc[transaction_data.LYLTY_CARD_NBR != 226000]\n",
    "# Re-examining transaction data\n",
    "transaction_data[transaction_data.LYLTY_CARD_NBR == 226000]"
   ]
  },
  {
   "cell_type": "markdown",
   "metadata": {},
   "source": [
    "That's better. Now, let's look at the number of transaction lines over time to see if there are any obvious data issues such as missing data."
   ]
  },
  {
   "cell_type": "code",
   "execution_count": null,
   "metadata": {},
   "outputs": [],
   "source": [
    "txn_count = transaction_data.groupby('DATE').count().TXN_ID.reset_index()"
   ]
  },
  {
   "cell_type": "markdown",
   "metadata": {},
   "source": [
    "There's only 364 rows, meaning only 364 dates which indicates a missing date. Let's create a sequence of dates from 1 Jul 2018 to 30 Jun 2019 and use this to create a chart of number of transactions over time to find the missing date."
   ]
  },
  {
   "cell_type": "code",
   "execution_count": null,
   "metadata": {},
   "outputs": [],
   "source": [
    "date_list = pd.date_range(start=\"2018-07-01\",end=\"2019-06-30\")\n",
    "date_list = pd.DataFrame(date_list)\n",
    "date_list.rename(columns={0: 'DATE'}, inplace=True)\n",
    "merged_txn_count = pd.merge(left=date_list, right=txn_count, how='left', on='DATE')\n",
    "merged_txn_count.rename(columns={'TXN_ID': 'TXN_COUNT'}, inplace=True)\n",
    "merged_txn_count"
   ]
  },
  {
   "cell_type": "code",
   "execution_count": null,
   "metadata": {},
   "outputs": [],
   "source": [
    "plt.figure(figsize=(16,9))\n",
    "plt.xticks(rotation='vertical')\n",
    "plt.title('Transactions over time', fontdict={'fontsize': 20})\n",
    "plt.xlabel('Day')\n",
    "plt.ylabel('Number of transactions')\n",
    "plt.bar(merged_txn_count.DATE, merged_txn_count.TXN_COUNT, width=0.4, color='b');"
   ]
  },
  {
   "cell_type": "markdown",
   "metadata": {},
   "source": [
    "We can see that there is an increase in purchases in December and a break in late December. Let's zoom in on this."
   ]
  },
  {
   "cell_type": "code",
   "execution_count": null,
   "metadata": {},
   "outputs": [],
   "source": [
    "december_data = merged_txn_count.loc[range(153, 184)]\n",
    "plt.figure(figsize=(11,8))\n",
    "plt.xticks(rotation='vertical')\n",
    "plt.title('Transactions over December', fontdict={'fontsize': 20})\n",
    "plt.xlabel('Day', fontdict={'fontsize': 15})\n",
    "plt.ylabel('Number of transactions', fontdict={'fontsize': 15})\n",
    "plt.bar(december_data.DATE, december_data.TXN_COUNT, width=0.5);"
   ]
  },
  {
   "cell_type": "markdown",
   "metadata": {},
   "source": [
    "We can see that the increase in sales occurs in the lead-up to Christmas and that there are zero sales on Christmas day itself. This is due to shops being closed on Christmas day."
   ]
  },
  {
   "cell_type": "markdown",
   "metadata": {},
   "source": [
    "Now that we are satisfied that the data no longer has outliers, we can move on to creating other features such as brand of chips or pack size from PROD_NAME. We will start with pack size"
   ]
  },
  {
   "cell_type": "code",
   "execution_count": null,
   "metadata": {},
   "outputs": [],
   "source": [
    "transaction_data['PACKET_SIZE'] = transaction_data.PROD_NAME.apply(lambda x: int(re.search(r'\\d+', x).group()))\n",
    "transaction_data.sort_values(by='PACKET_SIZE')"
   ]
  },
  {
   "cell_type": "markdown",
   "metadata": {},
   "source": [
    "The largest size is 380g and the smallest size is 70g - seems sensible!"
   ]
  },
  {
   "cell_type": "markdown",
   "metadata": {},
   "source": [
    "Let's plot a histogram of PACK_SIZE since we know that it is a categorical variable and not a continuous variable even though it is numeric"
   ]
  },
  {
   "cell_type": "code",
   "execution_count": null,
   "metadata": {},
   "outputs": [],
   "source": [
    "plt.figure(figsize=(11,8))\n",
    "plt.title('Counts of Packet Sizes', fontdict={'fontsize': 20})\n",
    "plt.xlabel('Packet Size', fontdict={'fontsize': 15})\n",
    "plt.ylabel('Count', fontdict={'fontsize': 15})\n",
    "sns.histplot(data=transaction_data, x='PACKET_SIZE', binwidth = 10);"
   ]
  },
  {
   "cell_type": "markdown",
   "metadata": {},
   "source": [
    "Pack sizes created look reasonable."
   ]
  },
  {
   "cell_type": "markdown",
   "metadata": {},
   "source": [
    "Now to create brands, we can use the first word in PROD_NAME to work out the brand name."
   ]
  },
  {
   "cell_type": "code",
   "execution_count": null,
   "metadata": {},
   "outputs": [],
   "source": [
    "transaction_data['BRAND'] = transaction_data.PROD_NAME.apply(lambda x: x.split()[0])\n",
    "transaction_data"
   ]
  },
  {
   "cell_type": "code",
   "execution_count": null,
   "metadata": {},
   "outputs": [],
   "source": [
    "transaction_data.BRAND.unique()"
   ]
  },
  {
   "cell_type": "markdown",
   "metadata": {},
   "source": [
    "Some of the brand names look like they are of the same brands - such as RED and RRD, which are both Red Rock Deli chips. Let's combine these together and also add their full name. We'll also do the same for others where its required."
   ]
  },
  {
   "cell_type": "code",
   "execution_count": null,
   "metadata": {},
   "outputs": [],
   "source": [
    "transaction_data.loc[transaction_data.BRAND == 'Natural', 'BRAND'] = 'Natural Chip Company'\n",
    "transaction_data.loc[transaction_data.BRAND == 'NCC', 'BRAND'] = 'Natural Chip Company'\n",
    "transaction_data.loc[transaction_data.BRAND == 'Old', 'BRAND'] = 'Old El Paso'\n",
    "transaction_data.loc[transaction_data.BRAND == 'Burger', 'BRAND'] = 'Burger Rings'\n",
    "transaction_data.loc[transaction_data.BRAND == 'Red', 'BRAND'] = 'Red Rock Deli'\n",
    "transaction_data.loc[transaction_data.BRAND == 'RRD', 'BRAND'] = 'Red Rock Deli'\n",
    "transaction_data.loc[transaction_data.BRAND == 'Grain', 'BRAND'] = 'Grain Waves'\n",
    "transaction_data.loc[transaction_data.BRAND == 'Dorito', 'BRAND'] = 'Doritos'\n",
    "transaction_data.loc[transaction_data.BRAND == 'Smith', 'BRAND'] = 'Smiths'\n",
    "transaction_data.loc[transaction_data.BRAND == 'GrnWves', 'BRAND'] = 'Grain Waves'\n",
    "transaction_data.loc[transaction_data.BRAND == 'Infzns', 'BRAND'] = 'Infuzions'\n",
    "transaction_data.loc[transaction_data.BRAND == 'French', 'BRAND'] = 'French Fries'\n",
    "transaction_data.loc[transaction_data.BRAND == 'Snbts', 'BRAND'] = 'Sunbites'\n",
    "transaction_data.loc[transaction_data.BRAND == 'WW', 'BRAND'] = 'Woolworths'"
   ]
  },
  {
   "cell_type": "markdown",
   "metadata": {},
   "source": [
    "Now let's create a price column for each product."
   ]
  },
  {
   "cell_type": "code",
   "execution_count": null,
   "metadata": {},
   "outputs": [],
   "source": [
    "transaction_data['PRICE'] = transaction_data.TOT_SALES / transaction_data.PROD_QTY"
   ]
  },
  {
   "cell_type": "markdown",
   "metadata": {},
   "source": [
    "Let's reorder the column to our preference."
   ]
  },
  {
   "cell_type": "code",
   "execution_count": null,
   "metadata": {},
   "outputs": [],
   "source": [
    "transaction_data_cleaned = transaction_data[['DATE', 'STORE_NBR', 'LYLTY_CARD_NBR', 'TXN_ID', 'PROD_NBR', 'PROD_NAME', 'BRAND', 'PACKET_SIZE', 'PROD_QTY', 'PRICE', 'TOT_SALES']]\n",
    "transaction_data_cleaned"
   ]
  },
  {
   "cell_type": "code",
   "execution_count": null,
   "metadata": {},
   "outputs": [],
   "source": [
    "#total_sales_df = pd.DataFrame(transaction_data_cleaned.groupby('DATE')['TOT_SALES'].sum()).reset_index()\n",
    "#total_sales_df"
   ]
  },
  {
   "cell_type": "markdown",
   "metadata": {},
   "source": [
    "Now that we are happy with the transaction dataset, let's have a look at the customer dataset."
   ]
  },
  {
   "cell_type": "markdown",
   "metadata": {},
   "source": [
    "## Examining customer data"
   ]
  },
  {
   "cell_type": "code",
   "execution_count": null,
   "metadata": {},
   "outputs": [],
   "source": [
    "customer_data"
   ]
  },
  {
   "cell_type": "code",
   "execution_count": null,
   "metadata": {},
   "outputs": [],
   "source": [
    "customer_data.info()"
   ]
  },
  {
   "cell_type": "markdown",
   "metadata": {},
   "source": [
    "Seems like there are no Null values in the dataset which is great."
   ]
  },
  {
   "cell_type": "code",
   "execution_count": null,
   "metadata": {},
   "outputs": [],
   "source": [
    "customer_data.PREMIUM_CUSTOMER.value_counts()"
   ]
  },
  {
   "cell_type": "markdown",
   "metadata": {},
   "source": [
    "Premium customers are less in number which is expected."
   ]
  },
  {
   "cell_type": "code",
   "execution_count": null,
   "metadata": {},
   "outputs": [],
   "source": [
    "customer_data.LIFESTAGE.value_counts()"
   ]
  },
  {
   "cell_type": "markdown",
   "metadata": {},
   "source": [
    "Retirees, older singles/couples and young singles/couples are buying from the supermarket significantly more than the other groups."
   ]
  },
  {
   "cell_type": "markdown",
   "metadata": {},
   "source": [
    "## Merging transaction data to customer data"
   ]
  },
  {
   "cell_type": "code",
   "execution_count": null,
   "metadata": {},
   "outputs": [],
   "source": [
    "merged_data = pd.merge(left=transaction_data_cleaned, right=customer_data, how='left', on='LYLTY_CARD_NBR')\n",
    "merged_data"
   ]
  },
  {
   "cell_type": "markdown",
   "metadata": {},
   "source": [
    "As the number of rows in `merged_data` is the same as that of `transaction_data`, we can be sure that no duplicates were created. This is because we created `merge_data` by setting `how='left'` (in other words, a left join) which means take all the rows in `transaction_data` and find rows with matching values in shared columns and then joining the details in these rows to the `LYLTY_CARD_NBR` or the first mentioned table.\n"
   ]
  },
  {
   "cell_type": "markdown",
   "metadata": {},
   "source": [
    "Let's also check if some customers were not matched on by checking for nulls."
   ]
  },
  {
   "cell_type": "code",
   "execution_count": null,
   "metadata": {},
   "outputs": [],
   "source": [
    "merged_data.LYLTY_CARD_NBR.count()"
   ]
  },
  {
   "cell_type": "markdown",
   "metadata": {},
   "source": [
    "Great, there are no nulls! So all our customers in the transaction data has been accounted for in the customer dataset."
   ]
  },
  {
   "cell_type": "markdown",
   "metadata": {},
   "source": [
    "Data exploration is now complete!"
   ]
  },
  {
   "cell_type": "code",
   "execution_count": null,
   "metadata": {},
   "outputs": [],
   "source": [
    "#merged_data.to_csv('merged_data.csv', index=False)"
   ]
  },
  {
   "cell_type": "markdown",
   "metadata": {},
   "source": [
    "## Data analysis on customer segments"
   ]
  },
  {
   "cell_type": "markdown",
   "metadata": {},
   "source": [
    "Now that the data is ready for analysis, we can define some metrics of interest to the client:\n",
    "- Who spends the most on chips (total sales), describing customers by lifestage and how premium their general purchasing behaviour is\n",
    "- How many customers are in each segment\n",
    "- How many chips are bought per customer by segment\n",
    "- What's the average chip price by customer segment\n",
    "\n",
    "We could also ask our data team for more information. Examples are:\n",
    "- The customer's total spend over the period and total spend for each transaction to understand what proportion of their grocery spend is on chips\n",
    "- Proportion of customers in each customer segment overall to compare against the mix of customers who purchase chips\n"
   ]
  },
  {
   "cell_type": "markdown",
   "metadata": {},
   "source": [
    "Let's start with calculating total sales by LIFESTAGE and PREMIUM_CUSTOMER and plotting the split by these segments to describe which customer segment contribute most to chip sales."
   ]
  },
  {
   "cell_type": "code",
   "execution_count": null,
   "metadata": {},
   "outputs": [],
   "source": [
    "sales_data = merged_data.groupby(['LIFESTAGE', 'PREMIUM_CUSTOMER'])['TOT_SALES'].sum().to_frame().reset_index()\n",
    "sales_data"
   ]
  },
  {
   "cell_type": "code",
   "execution_count": null,
   "metadata": {},
   "outputs": [],
   "source": [
    "sns.set_style('darkgrid')\n",
    "plt.figure(figsize=(14, 8))\n",
    "ax = sns.barplot(data=sales_data, x='LIFESTAGE', y='TOT_SALES', hue='PREMIUM_CUSTOMER')\n",
    "ax.set_xlabel('Customer Segment', fontsize=15) \n",
    "ax.set_ylabel('Total Sales', fontsize=15)\n",
    "ax.set_title('Total Sales by Customer Segments', fontsize=20)\n",
    "plt.xticks(rotation='vertical')\n",
    "plt.show()"
   ]
  },
  {
   "cell_type": "markdown",
   "metadata": {},
   "source": [
    "Sales are coming mainly from Budget - older families, Mainstream - young singles/couples, and Mainstream - retirees."
   ]
  },
  {
   "cell_type": "markdown",
   "metadata": {},
   "source": [
    "Let's see if the higher sales are due to there being more customers who buy chips."
   ]
  },
  {
   "cell_type": "code",
   "execution_count": null,
   "metadata": {},
   "outputs": [],
   "source": [
    "sales_data_customer = merged_data.groupby(['LIFESTAGE', 'PREMIUM_CUSTOMER'])['LYLTY_CARD_NBR'].count().to_frame().reset_index()\n",
    "sales_data_customer"
   ]
  },
  {
   "cell_type": "code",
   "execution_count": null,
   "metadata": {},
   "outputs": [],
   "source": [
    "plt.figure(figsize=(14, 8))\n",
    "ax = sns.barplot(data=sales_data_customer, x='LIFESTAGE', y='LYLTY_CARD_NBR', hue='PREMIUM_CUSTOMER')\n",
    "ax.set_xlabel('Customer Segment', fontsize=15) \n",
    "ax.set_ylabel('Total Customers', fontsize=15)\n",
    "ax.set_title('Total Customers by Customer Segments', fontsize=20)\n",
    "plt.xticks(rotation='vertical')\n",
    "plt.show()"
   ]
  },
  {
   "cell_type": "markdown",
   "metadata": {},
   "source": [
    "There are more Mainstream - young singles/couples and Mainstream - retirees who buy chips. This contributes to there being more sales to these customer segments but this is not a major driver for the Budget - Older families segment."
   ]
  },
  {
   "cell_type": "markdown",
   "metadata": {},
   "source": [
    "Higher sales may also be driven by more units of chips being bought per customer. Let's have a look at this next.\n"
   ]
  },
  {
   "cell_type": "code",
   "execution_count": null,
   "metadata": {},
   "outputs": [],
   "source": [
    "sales_data_avg = merged_data.groupby(['LIFESTAGE', 'PREMIUM_CUSTOMER'])['PROD_QTY'].mean().to_frame().reset_index()\n",
    "sales_data_avg"
   ]
  },
  {
   "cell_type": "code",
   "execution_count": null,
   "metadata": {},
   "outputs": [],
   "source": [
    "plt.figure(figsize=(14, 8))\n",
    "ax = sns.barplot(data=sales_data_avg, x='LIFESTAGE', y='PROD_QTY', hue='PREMIUM_CUSTOMER')\n",
    "ax.set_xlabel('Customer Segment', fontsize=15) \n",
    "ax.set_ylabel('Average No. of Packets', fontsize=15)\n",
    "ax.set_title('Average No. of Packets by Customer Segments', fontsize=20)\n",
    "plt.legend(loc='lower right')\n",
    "plt.xticks(rotation='vertical')\n",
    "plt.show()"
   ]
  },
  {
   "cell_type": "markdown",
   "metadata": {},
   "source": [
    "Older families and young families in general buy more chips per customer."
   ]
  },
  {
   "cell_type": "markdown",
   "metadata": {},
   "source": [
    "Let's also investigate the average price per unit chips bought for each customer segment as this is also a driver of total sales."
   ]
  },
  {
   "cell_type": "code",
   "execution_count": null,
   "metadata": {},
   "outputs": [],
   "source": [
    "sales_data_avg_price = merged_data.groupby(['LIFESTAGE', 'PREMIUM_CUSTOMER'])['PRICE'].mean().to_frame().reset_index()\n",
    "sales_data_avg_price"
   ]
  },
  {
   "cell_type": "code",
   "execution_count": null,
   "metadata": {},
   "outputs": [],
   "source": [
    "plt.figure(figsize=(14, 8))\n",
    "ax = sns.barplot(data=sales_data_avg_price, x='LIFESTAGE', y='PRICE', hue='PREMIUM_CUSTOMER')\n",
    "ax.set_xlabel('Customer Segment', fontsize=15) \n",
    "ax.set_ylabel('Average Price of Packets', fontsize=15)\n",
    "ax.set_title('Average Price of Packets by Customer Segments', fontsize=20)\n",
    "plt.legend(loc='lower right')\n",
    "plt.xticks(rotation='vertical')\n",
    "plt.show()"
   ]
  },
  {
   "cell_type": "markdown",
   "metadata": {},
   "source": [
    "Mainstream midage and young singles and couples are more willing to pay more per packet of chips compared to their budget and premium counterparts. This may be due to premium shoppers being more likely to buy healthy snacks and when they buy chips, this is mainly for entertainment purposes rather than their own consumption. This is also supported by there being fewer premium midage and young singles and couples buying chips compared to their mainstream counterparts."
   ]
  },
  {
   "cell_type": "markdown",
   "metadata": {},
   "source": [
    "As the difference in average price per unit isn't large, we can check if this difference is statistically different."
   ]
  },
  {
   "cell_type": "code",
   "execution_count": null,
   "metadata": {},
   "outputs": [],
   "source": [
    "print(stats.ttest_ind(merged_data.loc[(merged_data.LIFESTAGE.isin(['MIDAGE SINGLES/COUPLES', 'YOUNG SINGLES/COUPLES'])) & (merged_data.PREMIUM_CUSTOMER == 'Mainstream')].PRICE,\n",
    "                      merged_data.loc[(merged_data.LIFESTAGE.isin(['MIDAGE SINGLES/COUPLES', 'YOUNG SINGLES/COUPLES'])) & (merged_data.PREMIUM_CUSTOMER.isin(['Budget', 'Premium']))].PRICE),\n",
    "stats.t.ppf(q=0.025, df=57365),\n",
    "stats.t.ppf(q=0.975, df=57365))"
   ]
  },
  {
   "cell_type": "markdown",
   "metadata": {},
   "source": [
    "The t-test results in a p-value of 2.235645611549355e-309, i.e. the unit price for mainstream, young and mid-age singles and couples are significantly higher than that of budget or premium, young and midage singles and couples."
   ]
  },
  {
   "cell_type": "markdown",
   "metadata": {},
   "source": [
    "## Deep dive into specific customer segments for insights"
   ]
  },
  {
   "cell_type": "markdown",
   "metadata": {},
   "source": [
    "We have found quite a few interesting insights that we can dive deeper into."
   ]
  },
  {
   "cell_type": "markdown",
   "metadata": {},
   "source": [
    "We might want to target customer segments that contribute the most to sales to retain them or further increase sales. Let's look at Mainstream - young singles/couples. For instance, let's find out if they tend to buy a particular brand of chips."
   ]
  },
  {
   "cell_type": "code",
   "execution_count": null,
   "metadata": {},
   "outputs": [],
   "source": [
    "# mainstream_young_sin_coup = merged_data.loc[(merged_data.LIFESTAGE == 'YOUNG SINGLES/COUPLES') & (merged_data.PREMIUM_CUSTOMER == 'Mainstream')]\n",
    "# mainstream_young_sin_coup_brand = mainstream_young_sin_coup.groupby('BRAND')['LYLTY_CARD_NBR'].count().to_frame().reset_index().sort_values(by='LYLTY_CARD_NBR', ascending=False)\n",
    "# mainstream_young_sin_coup_brand.rename(columns={'LYLTY_CARD_NBR': 'CUSTOMER COUNT'}, inplace=True)"
   ]
  },
  {
   "cell_type": "code",
   "execution_count": null,
   "metadata": {},
   "outputs": [],
   "source": [
    "# plt.figure(figsize=(16,9))\n",
    "# ax = sns.barplot(data=mainstream_young_sin_coup_brand, x='BRAND', y='CUSTOMER COUNT')\n",
    "# ax.set_xlabel('Product Name', fontsize=20) \n",
    "# ax.set_ylabel('No. of Customers', fontsize=20, labelpad=15)\n",
    "# ax.set_title('No. of Customers by Brand', fontsize=25, pad=15)\n",
    "# plt.xticks(rotation=70, fontsize=13)\n",
    "# plt.yticks(fontsize=15)\n",
    "# plt.show()"
   ]
  },
  {
   "cell_type": "code",
   "execution_count": null,
   "metadata": {},
   "outputs": [],
   "source": [
    "# mainstream_young_sin_coup_pack = mainstream_young_sin_coup.groupby('PACKET_SIZE')['LYLTY_CARD_NBR'].count().to_frame().reset_index().sort_values(by='LYLTY_CARD_NBR', ascending=False)\n",
    "# mainstream_young_sin_coup_pack.rename(columns={'LYLTY_CARD_NBR': 'CUSTOMER COUNT'}, inplace=True)"
   ]
  },
  {
   "cell_type": "code",
   "execution_count": null,
   "metadata": {},
   "outputs": [],
   "source": [
    "# plt.figure(figsize=(16,9))\n",
    "# ax = sns.barplot(data=mainstream_young_sin_coup_pack, x='PACKET_SIZE', y='CUSTOMER COUNT')\n",
    "# ax.set_xlabel('Product Name', fontsize=20, labelpad=15) \n",
    "# ax.set_ylabel('Packet Size', fontsize=20, labelpad=15)\n",
    "# ax.set_title('No. of Customers by Packet Size', fontsize=25, pad=15)\n",
    "# plt.xticks(fontsize=15)\n",
    "# plt.yticks(fontsize=15)\n",
    "# plt.show()"
   ]
  },
  {
   "cell_type": "markdown",
   "metadata": {},
   "source": [
    "### Preferred brand compared to the rest of the population"
   ]
  },
  {
   "cell_type": "code",
   "execution_count": null,
   "metadata": {},
   "outputs": [],
   "source": [
    "cust_seg_brand = merged_data.groupby(['LIFESTAGE', 'PREMIUM_CUSTOMER', 'BRAND'])['TOT_SALES'].sum().to_frame().reset_index()\n",
    "cust_seg_brand"
   ]
  },
  {
   "cell_type": "code",
   "execution_count": null,
   "metadata": {},
   "outputs": [],
   "source": [
    "max_cust_brand = cust_seg_brand.groupby('BRAND')['TOT_SALES'].max()\n",
    "pop_seg_brand = cust_seg_brand.loc[cust_seg_brand['TOT_SALES'].isin(max_cust_brand)].sort_values(by='TOT_SALES', ascending=False).drop_duplicates(subset='BRAND')\n",
    "pop_seg_brand.loc[(pop_seg_brand.LIFESTAGE == 'YOUNG SINGLES/COUPLES') & (pop_seg_brand.PREMIUM_CUSTOMER == 'Mainstream')]\n",
    "#pop_seg_brand"
   ]
  },
  {
   "cell_type": "markdown",
   "metadata": {},
   "source": [
    "These are the brands that the mainstream young singles and couples dominate over other population. This group should be targeted to retain them and to increase sales further."
   ]
  },
  {
   "cell_type": "markdown",
   "metadata": {},
   "source": [
    "### Preferred pack size compared to the rest of the population"
   ]
  },
  {
   "cell_type": "code",
   "execution_count": null,
   "metadata": {},
   "outputs": [],
   "source": [
    "cust_seg_pack = merged_data.groupby(['LIFESTAGE', 'PREMIUM_CUSTOMER', 'PACKET_SIZE'])['TOT_SALES'].sum().to_frame().reset_index()\n",
    "cust_seg_pack"
   ]
  },
  {
   "cell_type": "code",
   "execution_count": null,
   "metadata": {},
   "outputs": [],
   "source": [
    "max_cust_pack = cust_seg_pack.groupby('PACKET_SIZE')['TOT_SALES'].max()\n",
    "pop_seg_pack = cust_seg_pack.loc[cust_seg_pack['TOT_SALES'].isin(max_cust_pack)].sort_values(by='TOT_SALES', ascending=False).drop_duplicates(subset='PACKET_SIZE')\n",
    "pop_seg_pack.loc[(pop_seg_pack.LIFESTAGE == 'YOUNG SINGLES/COUPLES') & (pop_seg_pack.PREMIUM_CUSTOMER == 'Mainstream')]"
   ]
  },
  {
   "cell_type": "markdown",
   "metadata": {},
   "source": [
    "The mainstream young singles and couples seem to buy more of the larger packet of chips over other population."
   ]
  }
 ],
 "metadata": {
  "interpreter": {
   "hash": "5ada51d404112d6bca411ed203e4e32e546df37f9618c2c2e3c83bb046b7b8cd"
  },
  "kernelspec": {
   "display_name": "Python 3.7.9 64-bit",
   "language": "python",
   "name": "python3"
  },
  "language_info": {
   "codemirror_mode": {
    "name": "ipython",
    "version": 3
   },
   "file_extension": ".py",
   "mimetype": "text/x-python",
   "name": "python",
   "nbconvert_exporter": "python",
   "pygments_lexer": "ipython3",
   "version": "3.7.9"
  },
  "orig_nbformat": 4
 },
 "nbformat": 4,
 "nbformat_minor": 2
}
